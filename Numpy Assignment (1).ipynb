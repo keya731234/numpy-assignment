{
 "cells": [
  {
   "cell_type": "markdown",
   "id": "a812d2de-3b01-4835-be63-d35cab6f2b83",
   "metadata": {},
   "source": [
    "## Theoretical questions:"
   ]
  },
  {
   "cell_type": "markdown",
   "id": "072ad6a5-4c9f-4ba6-8697-f80523ed1303",
   "metadata": {},
   "source": [
    "### 1. explain the purpose and advantages of numpy in scientific computing and data analysis. How does it enhance Python's capabilities for numeriacl operations?"
   ]
  },
  {
   "cell_type": "code",
   "execution_count": 1,
   "id": "ca0d5f2a-1578-4002-8c73-ba0d53f72b33",
   "metadata": {},
   "outputs": [],
   "source": [
    "#Numpy is an open source mathematical and scientific computing library for Python programming tasks. the name Numpy is shorthand for numrical Python . The Numpy library offers a collection of high-level mathematical functions including support for multi_dimensional arrays, masked arrays and matrices. Numpy also including support for muti_dimensional arrays, masked arrays and matrices. NumPy also includes various logicla and mathematical capabilities fo rthose arrays such as shape manipulation, sorting, selection, linear algebra, statistical operations, random number generation and discrete Fourier transforms.\n",
    "#As with any programmers can easily write Python code that makes calls and exchanges data with NumPy library was first released in 2006. Today, the scientific computing community supports the open source library, and NumPy is currently available through GitHub. Development of the NumPy library is active and ongoing.0\n"
   ]
  },
  {
   "cell_type": "markdown",
   "id": "1b699dcf-a491-4ff9-8b5c-926a9acaffe9",
   "metadata": {},
   "source": [
    "### 2. compare and contrast np.mean() and np.average() functions in NumPy. When would you use one over the other?"
   ]
  },
  {
   "cell_type": "code",
   "execution_count": null,
   "id": "996c870d-6c2f-4449-9b8b-d230e345de69",
   "metadata": {},
   "outputs": [],
   "source": [
    "#In the Numpy library, there are two functions np.mean()and np.average()are present. Both are actually doing nearly the same job of calculating mean/average.\n",
    "#if that is the case then we have to use np.average(). With np.average function we can calculate both arithmetic mean and weighted average. In this article, we have shown the basic use case of both functions and how they are different from each other.\n",
    "#Difference between np.average()and np.mean()\n",
    "#np.mean() = 1. use to calculate arithmetic mean\n",
    "            # 2. all elements have equal weight\n",
    "           # 3. weith cannot be passed though the parameter of the given function.\n",
    "           # Syntax: np.mean(arr,axis=None)   where 'arr' is the given array.\n",
    "#np.average() = 1. use to calculate the arithmetic mean as well as weighted agerage.\n",
    "            # 2. All elements may or amy not have equal weight.\n",
    "            # 3.weight can be passed through the parameter of the given function.\n",
    "            # 4. numpy.average(arr,axis=None, weights=name) Where 'arr' is the the given array\n",
    "\n",
    "np.mean()\n",
    "# in numpy library, np.mean() is a function used to calculate arithmetic mean of the given arry along with the axis. Lets see the code implementation.\n",
    "code\n",
    "# this code calculates the mean (average) of a NumPy. array named 'arr' and prints both teh array and its mean value.\n"
   ]
  },
  {
   "cell_type": "code",
   "execution_count": 27,
   "id": "3c34fed9-675b-4464-9850-94f621d2e79a",
   "metadata": {},
   "outputs": [
    {
     "data": {
      "text/plain": [
       "array([3, 7, 8, 6, 5, 4])"
      ]
     },
     "execution_count": 27,
     "metadata": {},
     "output_type": "execute_result"
    }
   ],
   "source": [
    "import numpy as np\n",
    "arr1=np.array([3,7,8,6,5,4])\n",
    "arr1"
   ]
  },
  {
   "cell_type": "code",
   "execution_count": 28,
   "id": "58159b1c-5a1a-449b-bc46-699a07c99af9",
   "metadata": {},
   "outputs": [
    {
     "data": {
      "text/plain": [
       "5.5"
      ]
     },
     "execution_count": 28,
     "metadata": {},
     "output_type": "execute_result"
    }
   ],
   "source": [
    "np.mean(arr1)"
   ]
  },
  {
   "cell_type": "code",
   "execution_count": 30,
   "id": "99ccdbc0-3d4a-4d44-ae0e-ce965619d989",
   "metadata": {},
   "outputs": [
    {
     "data": {
      "text/plain": [
       "array([[0, 1, 2],\n",
       "       [3, 4, 5],\n",
       "       [6, 7, 8]])"
      ]
     },
     "execution_count": 30,
     "metadata": {},
     "output_type": "execute_result"
    }
   ],
   "source": [
    "arr2=np.arange(9).reshape(3,3)\n",
    "arr2"
   ]
  },
  {
   "cell_type": "code",
   "execution_count": 33,
   "id": "3df414bd-be71-4fe7-9408-d6d33b23af98",
   "metadata": {},
   "outputs": [
    {
     "data": {
      "text/plain": [
       "4.0"
      ]
     },
     "execution_count": 33,
     "metadata": {},
     "output_type": "execute_result"
    }
   ],
   "source": [
    "np.average(arr2)"
   ]
  },
  {
   "cell_type": "code",
   "execution_count": 34,
   "id": "9d4a0881-f1b1-4c87-bbba-e5006e3b3b76",
   "metadata": {},
   "outputs": [
    {
     "data": {
      "text/plain": [
       "5.5"
      ]
     },
     "execution_count": 34,
     "metadata": {},
     "output_type": "execute_result"
    }
   ],
   "source": [
    "np.average(arr1)"
   ]
  },
  {
   "cell_type": "markdown",
   "id": "e5d30f77-2c1a-4b85-a69b-b56c24741005",
   "metadata": {},
   "source": [
    "### 3. Describe the methods for reversing a Numpy array along different axis. Provide examples for 1D and 2D arrays."
   ]
  },
  {
   "cell_type": "code",
   "execution_count": 36,
   "id": "5372f55e-c9d3-4b79-a621-bf0b16180c0a",
   "metadata": {},
   "outputs": [],
   "source": [
    "#Sometimes while programming in Python, we need to use Pyton to invert a NumPy array. In python, the reverse of a NumPy array indicates changing the order. The first element, the second last, the last the first, and so on. There are several methods for reversing a numpy array.\n",
    "# some of the most frequent methods for reversing a numpy array are as follows:\n",
    "# len() with loops ,  flip()function, reverse()function, flipud()function, fliplr()function"
   ]
  },
  {
   "cell_type": "code",
   "execution_count": 37,
   "id": "ea422ce5-9853-428f-99f4-4668b9f59d91",
   "metadata": {},
   "outputs": [
    {
     "name": "stdout",
     "output_type": "stream",
     "text": [
      "[0, 9, 8, 7, 6, 5, 4, 3, 2, 1]\n"
     ]
    }
   ],
   "source": [
    "def reverse(nums):\n",
    "    start_index=0\n",
    "    end_index = len(nums)-1\n",
    "    while end_index>start_index:\n",
    "        nums[start_index],nums[end_index]=nums[end_index],nums[start_index]\n",
    "        start_index = start_index+1\n",
    "        end_index = end_index-1\n",
    "n = [1,2,3,4,5,6,7,8,9,0]\n",
    "reverse(n)\n",
    "print(n)"
   ]
  },
  {
   "cell_type": "code",
   "execution_count": 38,
   "id": "6d9f0637-ba54-4a9c-965a-1ce215177a32",
   "metadata": {},
   "outputs": [
    {
     "name": "stdout",
     "output_type": "stream",
     "text": [
      "[1 3 9 4 8 6 4 2]\n"
     ]
    }
   ],
   "source": [
    "import numpy as np\n",
    "arr = np.array([2,4,6,8,4,9,3,1])\n",
    "reve_arr = arr[::-1]\n",
    "print (reve_arr)"
   ]
  },
  {
   "cell_type": "markdown",
   "id": "d22c59b0-36e3-476a-b8c0-713d768045fe",
   "metadata": {},
   "source": [
    "### 4. How can you determine the data type of elements in a Numpy array? Discuss the importance of data types in memory management and performance."
   ]
  },
  {
   "cell_type": "code",
   "execution_count": 39,
   "id": "ec4e96ac-5ef8-44ff-bbc0-84c50c15455b",
   "metadata": {},
   "outputs": [],
   "source": [
    "#Numpy is a powerful python library. that can manage different types of data. Here we will explore the Datatypes in NumPy and How we can check and create datatypes of the NumPy array. \n",
    "# Data Types in NumPyd \n",
    "# A data type in NumP{y. is used to specify the type of data stored in a variable. Here is teh list of characters to represent data types available in NumPy.\n",
    "#   b = boolean, f= float, m= Time delta, o= object, U= unicode string, i= integer, u= unsigned integer, c= Complex float, M= datatime, s= string, v= a fixed chunk of memory fo rother types (void)"
   ]
  },
  {
   "cell_type": "code",
   "execution_count": 40,
   "id": "74b14b9f-0c51-42ed-bfbf-1aac7a85defc",
   "metadata": {},
   "outputs": [
    {
     "data": {
      "text/plain": [
       "dtype('int32')"
      ]
     },
     "execution_count": 40,
     "metadata": {},
     "output_type": "execute_result"
    }
   ],
   "source": [
    "import numpy as np\n",
    "arr= np.array([2,46,6])\n",
    "arr.dtype"
   ]
  },
  {
   "cell_type": "code",
   "execution_count": 41,
   "id": "07fa1161-b291-457d-a6eb-b815611dc699",
   "metadata": {},
   "outputs": [
    {
     "data": {
      "text/plain": [
       "dtype('<U11')"
      ]
     },
     "execution_count": 41,
     "metadata": {},
     "output_type": "execute_result"
    }
   ],
   "source": [
    "arr1= np.array([2,3,\"pw\",])\n",
    "arr1.dtype"
   ]
  },
  {
   "cell_type": "code",
   "execution_count": 42,
   "id": "143db2cc-52b7-4b75-a87d-5f02692279d9",
   "metadata": {},
   "outputs": [],
   "source": [
    "# in a multiprogramming computer, the operating System resides in a part of memory, and the rest is used by multiple processes. The task of subdividing the memory Management. Memory management is a method in the operating system ot manage operations between main memory and disk durign process execution. The main aim of memory management is to achieve efficient utilllization of memory.\n",
    "# allocate and de-allocate memory before and after process execution.\n",
    "#to keep track of used memory space by processes.\n",
    "#to minimize fragmentation issues.\n",
    "#to proper utilization of main memory. \n",
    "#to maintain data integrity while executing of process.\n"
   ]
  },
  {
   "cell_type": "markdown",
   "id": "a559a9ca-c48f-48d0-a166-645daf1cde82",
   "metadata": {},
   "source": [
    "### 5. create a NumPy array of strings ['python','numpy','pandas']. Apply different case transformations (uppercase, lowercase,title case,etc) to each element."
   ]
  },
  {
   "cell_type": "code",
   "execution_count": 43,
   "id": "d0c14d53-9fc8-45c0-94cd-77e31eed0c46",
   "metadata": {},
   "outputs": [
    {
     "data": {
      "text/plain": [
       "array(['pwskill', 'data analytics', 'priya', 'july batch'], dtype='<U14')"
      ]
     },
     "execution_count": 43,
     "metadata": {},
     "output_type": "execute_result"
    }
   ],
   "source": [
    "import numpy as np\n",
    "arr=np.array(['pwskill','data analytics','priya','july batch'])\n",
    "arr"
   ]
  },
  {
   "cell_type": "code",
   "execution_count": 47,
   "id": "4a521d85-998a-434b-8d0e-efaddf2c3367",
   "metadata": {},
   "outputs": [
    {
     "name": "stdout",
     "output_type": "stream",
     "text": [
      "Uppered:  ['PWSKILL' 'DATA ANALYTICS' 'PRIYA' 'JULY BATCH']\n"
     ]
    }
   ],
   "source": [
    "uppered_case= np. char. upper(arr)\n",
    "print(\"Uppered: \", uppered_case)"
   ]
  },
  {
   "cell_type": "code",
   "execution_count": 49,
   "id": "5b74f156-283b-4730-8327-5ba6f2f766d2",
   "metadata": {},
   "outputs": [
    {
     "name": "stdout",
     "output_type": "stream",
     "text": [
      "Lowered:  ['pwskill' 'data analytics' 'priya' 'july batch']\n"
     ]
    }
   ],
   "source": [
    "lowered_case=np.char.lower(arr)\n",
    "print(\"Lowered: \", lowered_case)"
   ]
  },
  {
   "cell_type": "code",
   "execution_count": 51,
   "id": "4c091894-a3c6-4ce9-8061-3d738c4e6dd0",
   "metadata": {},
   "outputs": [
    {
     "name": "stdout",
     "output_type": "stream",
     "text": [
      "capitalized:  ['Pwskill' 'Data analytics' 'Priya' 'July batch']\n"
     ]
    }
   ],
   "source": [
    "capitalized_case = np.char.capitalize(arr)\n",
    "print(\"capitalized: \", capitalized_case)"
   ]
  },
  {
   "cell_type": "code",
   "execution_count": 52,
   "id": "73073ead-82ca-452e-8a86-4f57f34ae064",
   "metadata": {},
   "outputs": [
    {
     "name": "stdout",
     "output_type": "stream",
     "text": [
      "swapcased:  ['PWSKILL' 'DATA ANALYTICS' 'PRIYA' 'JULY BATCH']\n"
     ]
    }
   ],
   "source": [
    "swapcased_case = np.char.swapcase(arr)\n",
    "print(\"swapcased: \",swapcased_case)"
   ]
  },
  {
   "cell_type": "code",
   "execution_count": 53,
   "id": "703cdcf8-28c0-4101-8618-63c6fdfdfe96",
   "metadata": {},
   "outputs": [
    {
     "name": "stdout",
     "output_type": "stream",
     "text": [
      "titlecased:  ['Pwskill' 'Data Analytics' 'Priya' 'July Batch']\n"
     ]
    }
   ],
   "source": [
    "titlecased_case = np.char.title(arr)\n",
    "print(\"titlecased: \",titlecased_case)"
   ]
  },
  {
   "cell_type": "markdown",
   "id": "39abd075-8caa-4ecd-ac73-13bcb0778e14",
   "metadata": {},
   "source": [
    "### 6. Analyze the performance benefits of numpy arrays over python lists forlarge_scale numerical opertions."
   ]
  },
  {
   "cell_type": "code",
   "execution_count": 57,
   "id": "32d31309-8f63-40b8-94f4-b4c699a4bb3a",
   "metadata": {},
   "outputs": [],
   "source": [
    "# 1. Speed Boost\n",
    "#Numpy arrays provide a significant spped advantage over traditional lists. \n",
    "#This is because Numpy is built in C and uses optimized,pre-compiled code for numerical operations. this allows for vectorization, which means opertions are applied to all elemetns in an array without the need for explicit loops in python. this not only simplifies your code but also accelerates execution, as vectorized operations are inherently faster than their looped counterparts in high_level languages like python.\n",
    "#2. memory usage\n",
    "# When it comes to memory efficiency. Numpy arrays are far superior ot traditional lists. Each item in a numpy array is of the same data type, requiring less memory overhead compared ot python lists where each element can be of a differnet type. \n",
    "#Furthermore, Numpy arrays are stored contiguously inmemory, which enhances performance by allowing for efficient access and manipulation of data, particularly beneficial when handling large datasets.\n",
    "# 3. Advanced Functions\n",
    "#Numpy comes with a plethora of built_in functions for performing complex mathematical operations, which are not only fasterbut also more reliable than writing yur own functions form scratch.\n",
    "#these functions cover a wide range of statistical operations.\n",
    "#the convenience of efficiency of having these advanced functions at your fingertips can greatly accelerate your fingertips can greatly accelerate yur data analysis workflows.\n",
    "# 4. mutidimensional data\n",
    "#traditional pytoon lists are not optimized for multidimensional data operations .\n",
    "# numpy, however, excels in handling such data structures withits multidimensional array(ndarray) support.\n",
    "# 5. broad compatibility\n"
   ]
  },
  {
   "cell_type": "markdown",
   "id": "8ba9a8f5-e57e-45db-bc5d-8196b6a10ccc",
   "metadata": {},
   "source": [
    "### 7. compare vstack() and hstack() functions in Numpy. Provide examples demonstrating their usage and output."
   ]
  },
  {
   "cell_type": "code",
   "execution_count": 58,
   "id": "f26ca7b6-d685-4b04-bfe7-90898f877212",
   "metadata": {},
   "outputs": [],
   "source": [
    "# suppose you have a 3*3 array to which you wish you wish to add a row or column. Adding a row is easy with \n",
    "# np.vstack:\n"
   ]
  },
  {
   "cell_type": "code",
   "execution_count": 16,
   "id": "055fe27b-5a56-4dac-a511-86890860dadc",
   "metadata": {},
   "outputs": [
    {
     "data": {
      "text/plain": [
       "array([[1., 1., 1.],\n",
       "       [1., 1., 1.],\n",
       "       [1., 1., 1.]])"
      ]
     },
     "execution_count": 16,
     "metadata": {},
     "output_type": "execute_result"
    }
   ],
   "source": [
    "import numpy as np\n",
    "arr1 = np.ones((3,3))\n",
    "arr1\n"
   ]
  },
  {
   "cell_type": "code",
   "execution_count": 21,
   "id": "554d11d9-da1e-4935-8fe9-80f6fadea1a1",
   "metadata": {},
   "outputs": [
    {
     "data": {
      "text/plain": [
       "array([[9, 3, 3],\n",
       "       [2, 5, 7],\n",
       "       [4, 6, 7]])"
      ]
     },
     "execution_count": 21,
     "metadata": {},
     "output_type": "execute_result"
    }
   ],
   "source": [
    "\n",
    "arr2 = np.array([[9,3,3],[2,5,7],[4,6,7]])\n",
    "arr2"
   ]
  },
  {
   "cell_type": "code",
   "execution_count": 23,
   "id": "c6b8ed9c-0649-49ce-932f-05403900181e",
   "metadata": {},
   "outputs": [
    {
     "data": {
      "text/plain": [
       "array([[1., 1., 1.],\n",
       "       [1., 1., 1.],\n",
       "       [1., 1., 1.],\n",
       "       [9., 3., 3.],\n",
       "       [2., 5., 7.],\n",
       "       [4., 6., 7.]])"
      ]
     },
     "execution_count": 23,
     "metadata": {},
     "output_type": "execute_result"
    }
   ],
   "source": [
    "np.vstack([arr1,arr2])"
   ]
  },
  {
   "cell_type": "code",
   "execution_count": 22,
   "id": "6295c78e-8824-44b2-b61d-9525fe00fc55",
   "metadata": {},
   "outputs": [
    {
     "data": {
      "text/plain": [
       "array([[1., 1., 1., 9., 3., 3.],\n",
       "       [1., 1., 1., 2., 5., 7.],\n",
       "       [1., 1., 1., 4., 6., 7.]])"
      ]
     },
     "execution_count": 22,
     "metadata": {},
     "output_type": "execute_result"
    }
   ],
   "source": [
    "np.hstack([arr1,arr2])"
   ]
  },
  {
   "cell_type": "markdown",
   "id": "ac75312e-9277-40f6-99d4-bd146dbe6b3c",
   "metadata": {},
   "source": [
    "### 8. explain the differences between fliplr() and flipud() methods in numpy, including their effects on various array dimensions."
   ]
  },
  {
   "cell_type": "code",
   "execution_count": 25,
   "id": "7a9e5197-38a0-434f-97ef-2f711c935261",
   "metadata": {},
   "outputs": [],
   "source": [
    "#flip() you cna flip the Numpy array ndarray vertically (up-down)or horizontally(left-right). There are also numpy.flipud() specialized for vertical flipping and numpy. fliplr() specialized for horizontal flipping."
   ]
  },
  {
   "cell_type": "code",
   "execution_count": 28,
   "id": "8aeb50b4-34a4-4144-b523-8c868f1e3a64",
   "metadata": {},
   "outputs": [
    {
     "data": {
      "text/plain": [
       "array([[2, 5, 6],\n",
       "       [4, 7, 8]])"
      ]
     },
     "execution_count": 28,
     "metadata": {},
     "output_type": "execute_result"
    }
   ],
   "source": [
    "import numpy as np\n",
    "a= np.array([[2,5,6],[4,7,8]])\n",
    "a"
   ]
  },
  {
   "cell_type": "code",
   "execution_count": 30,
   "id": "71081e62-8c32-4af2-a4cf-2cb8ca5142a4",
   "metadata": {},
   "outputs": [
    {
     "data": {
      "text/plain": [
       "array([[6, 5, 2],\n",
       "       [8, 7, 4]])"
      ]
     },
     "execution_count": 30,
     "metadata": {},
     "output_type": "execute_result"
    }
   ],
   "source": [
    "np.fliplr(a)"
   ]
  },
  {
   "cell_type": "code",
   "execution_count": 31,
   "id": "eaafa827-a1d2-46aa-8a49-4cc0c95fdc77",
   "metadata": {},
   "outputs": [
    {
     "data": {
      "text/plain": [
       "array([[4, 7, 8],\n",
       "       [2, 5, 6]])"
      ]
     },
     "execution_count": 31,
     "metadata": {},
     "output_type": "execute_result"
    }
   ],
   "source": [
    "np.flipud(a)"
   ]
  },
  {
   "cell_type": "markdown",
   "id": "4150482a-fd33-41f9-beb0-e552407df256",
   "metadata": {},
   "source": [
    "### 9. discuss the functionality of the array_split() method Numpy. How does it handle uneven splits?"
   ]
  },
  {
   "cell_type": "code",
   "execution_count": 1,
   "id": "1aa660c5-05cd-470f-bc18-ce2d8e52630e",
   "metadata": {},
   "outputs": [],
   "source": [
    "#The array_split() method in Numpy is used to devide an array into multiple subarrays. Its primary functionality includes:\n",
    "# 1. Splitting an Array: It allows you to split an array into a specified number of equal (or nearly equal) sub-arrays along a given axis.\n",
    "# 2. Flexible Number of Splits: Unlike split(), which requires the number of splits to evenly divide teh array, array_split() can handle cases where the array sixe isn't prerfectly diisible by teh number of splits. In such cases, some sub-array size isn't perfectly divisible by the number of splits. In such cases, some sub-arrays may have onemore element than others.\n",
    "# 3. Parameters: ary: the input array to be split. \n",
    "              # indices_or_sections: This can be an integer (number of splits)or a 1-D array of indices at which to split. \n",
    "              # axis: The axis along which to split teh array (default is 0).\n",
    "# 4. Return Value: It returns a list of sub-arrays."
   ]
  },
  {
   "cell_type": "code",
   "execution_count": 2,
   "id": "492783b6-526c-497f-9cbc-b7fd626b54ba",
   "metadata": {},
   "outputs": [
    {
     "data": {
      "text/plain": [
       "array([ 1, 23,  4,  5, 54, 78, 98, 73, 58, 34])"
      ]
     },
     "execution_count": 2,
     "metadata": {},
     "output_type": "execute_result"
    }
   ],
   "source": [
    "import numpy as np\n",
    "a = np.array([1,23,4,5,54,78,98,73,58,34])\n",
    "a"
   ]
  },
  {
   "cell_type": "code",
   "execution_count": 4,
   "id": "092f8325-6c45-4a6a-8ef3-9f17d27fa153",
   "metadata": {},
   "outputs": [
    {
     "data": {
      "text/plain": [
       "[array([ 1, 23,  4,  5]), array([54, 78, 98]), array([73, 58, 34])]"
      ]
     },
     "execution_count": 4,
     "metadata": {},
     "output_type": "execute_result"
    }
   ],
   "source": [
    "np.array_split(a,3)"
   ]
  },
  {
   "cell_type": "markdown",
   "id": "06537ba8-9fbc-4452-8aeb-e7b74e9a322e",
   "metadata": {},
   "source": [
    "### 10. Explain the concepts of vectorization and broadcasting in NumPy. How do they contribute to efficient array operations?\n"
   ]
  },
  {
   "cell_type": "code",
   "execution_count": 5,
   "id": "add7ff85-74f7-430b-8c11-145792501de2",
   "metadata": {},
   "outputs": [],
   "source": [
    "# numpy arrays are homogeneous in nature means it is an array that contains daa of ta single type only.\n",
    "#the concept of vectorized operations on Numpy allows teh use of more  optimal and precompiled unctions and mathematical operations on Numpy array objects and  \n",
    "#data sequences. the output and operations will speed up when compared to simple non-vectorixed operations.\n"
   ]
  },
  {
   "cell_type": "code",
   "execution_count": 7,
   "id": "970b8398-c91d-4927-b2ea-1287b6edaa8f",
   "metadata": {},
   "outputs": [
    {
     "data": {
      "text/plain": [
       "array([ 2, 20, 42, 72, 30])"
      ]
     },
     "execution_count": 7,
     "metadata": {},
     "output_type": "execute_result"
    }
   ],
   "source": [
    "a=np.array([1,5,7,9,3])\n",
    "b=np.array([2,4,6,8,10])\n",
    "c=a*b\n",
    "c"
   ]
  },
  {
   "cell_type": "markdown",
   "id": "2a4a8808-6d55-4386-b1e7-ada6b1a3f8a5",
   "metadata": {},
   "source": [
    "## practical question"
   ]
  },
  {
   "cell_type": "markdown",
   "id": "0b111c03-00a0-4819-b0a5-552cb49a6b11",
   "metadata": {},
   "source": [
    "### 1. Create a 3x3 NumPy array with random integers between 1 and 100. Then, interchange its rows and columns."
   ]
  },
  {
   "cell_type": "code",
   "execution_count": 16,
   "id": "28d6edd9-c2a5-4886-a375-b28177306c46",
   "metadata": {},
   "outputs": [
    {
     "data": {
      "text/plain": [
       "array([[20, 28, 36],\n",
       "       [68, 19, 32],\n",
       "       [79, 89, 68]])"
      ]
     },
     "execution_count": 16,
     "metadata": {},
     "output_type": "execute_result"
    }
   ],
   "source": [
    "import numpy as np\n",
    "arr= np.random.randint(1,100,size=(3,3))\n",
    "arr"
   ]
  },
  {
   "cell_type": "code",
   "execution_count": 18,
   "id": "52358eac-ce9b-46d6-bdf7-838af28d97fd",
   "metadata": {},
   "outputs": [
    {
     "data": {
      "text/plain": [
       "array([[20, 68, 79],\n",
       "       [28, 19, 89],\n",
       "       [36, 32, 68]])"
      ]
     },
     "execution_count": 18,
     "metadata": {},
     "output_type": "execute_result"
    }
   ],
   "source": [
    "arr.T"
   ]
  },
  {
   "cell_type": "markdown",
   "id": "943bc2cc-1078-4e3f-b23a-859dad69fe2b",
   "metadata": {},
   "source": [
    "### 2. Generate a 1D NumPy array with 10 elements. Reshape it into a 2x5 array, then into a 5x2 array."
   ]
  },
  {
   "cell_type": "code",
   "execution_count": 1,
   "id": "0930973e-5b7b-4620-8370-016360befcb9",
   "metadata": {},
   "outputs": [
    {
     "data": {
      "text/plain": [
       "array([0, 1, 2, 3, 4, 5, 6, 7, 8, 9])"
      ]
     },
     "execution_count": 1,
     "metadata": {},
     "output_type": "execute_result"
    }
   ],
   "source": [
    "import numpy as np\n",
    "arr= np.arange(10)\n",
    "arr"
   ]
  },
  {
   "cell_type": "code",
   "execution_count": 2,
   "id": "140ec756-78e2-4505-859f-d811b7a1aec8",
   "metadata": {},
   "outputs": [
    {
     "data": {
      "text/plain": [
       "array([[0, 1, 2, 3, 4],\n",
       "       [5, 6, 7, 8, 9]])"
      ]
     },
     "execution_count": 2,
     "metadata": {},
     "output_type": "execute_result"
    }
   ],
   "source": [
    "arr.reshape(2,5)"
   ]
  },
  {
   "cell_type": "code",
   "execution_count": 3,
   "id": "a145dd68-a477-4030-8eac-366e4c85852e",
   "metadata": {},
   "outputs": [
    {
     "data": {
      "text/plain": [
       "array([[0, 1],\n",
       "       [2, 3],\n",
       "       [4, 5],\n",
       "       [6, 7],\n",
       "       [8, 9]])"
      ]
     },
     "execution_count": 3,
     "metadata": {},
     "output_type": "execute_result"
    }
   ],
   "source": [
    "arr.reshape(5,2)"
   ]
  },
  {
   "cell_type": "markdown",
   "id": "789aada8-c680-42a1-bfee-51a5550c54af",
   "metadata": {},
   "source": [
    "### 3. Create a 4x4 NumPy array with random float values. Add a border of zeros around it, resulting in a 6x6 array."
   ]
  },
  {
   "cell_type": "code",
   "execution_count": 5,
   "id": "25b4daf7-6853-4667-9f7b-7562592f351c",
   "metadata": {},
   "outputs": [
    {
     "data": {
      "text/plain": [
       "array([[0.81682978, 0.80647564, 0.9789435 , 0.7473897 ],\n",
       "       [0.23909191, 0.20265139, 0.54309391, 0.00819926],\n",
       "       [0.24712802, 0.48157918, 0.08752721, 0.08947953],\n",
       "       [0.04648198, 0.15299785, 0.80664428, 0.37006055]])"
      ]
     },
     "execution_count": 5,
     "metadata": {},
     "output_type": "execute_result"
    }
   ],
   "source": [
    "import numpy as np\n",
    "arr= np.random.rand(4,4)\n",
    "arr"
   ]
  },
  {
   "cell_type": "code",
   "execution_count": 14,
   "id": "92c431fa-4c79-41ed-ae63-e329d7c0c2a9",
   "metadata": {},
   "outputs": [
    {
     "name": "stdout",
     "output_type": "stream",
     "text": [
      "6x6 Array with Zero Border:\n",
      "\n",
      "[[0.         0.         0.         0.         0.         0.        ]\n",
      " [0.         0.81682978 0.80647564 0.9789435  0.7473897  0.        ]\n",
      " [0.         0.23909191 0.20265139 0.54309391 0.00819926 0.        ]\n",
      " [0.         0.24712802 0.48157918 0.08752721 0.08947953 0.        ]\n",
      " [0.         0.04648198 0.15299785 0.80664428 0.37006055 0.        ]\n",
      " [0.         0.         0.         0.         0.         0.        ]]\n"
     ]
    }
   ],
   "source": [
    "arr1= np.pad(arr, pad_width=1, mode='constant', constant_values=0)\n",
    "print(\"6x6 Array with Zero Border:\\n\")\n",
    "print(arr1)"
   ]
  },
  {
   "cell_type": "markdown",
   "id": "a473f6a8-5e6c-422b-9772-caf5bb0545d2",
   "metadata": {},
   "source": [
    "### 4. Using NumPy, create an array of integers from 10 to 60 with a step of 5."
   ]
  },
  {
   "cell_type": "code",
   "execution_count": 17,
   "id": "80c01089-7c9d-4034-a383-75b1cfca3434",
   "metadata": {},
   "outputs": [
    {
     "data": {
      "text/plain": [
       "array([10, 15, 20, 25, 30, 35, 40, 45, 50, 55])"
      ]
     },
     "execution_count": 17,
     "metadata": {},
     "output_type": "execute_result"
    }
   ],
   "source": [
    "import numpy as np\n",
    "arr = np.arange(10,60,5)\n",
    "arr"
   ]
  },
  {
   "cell_type": "markdown",
   "id": "ca66ee7e-2296-47d6-b008-c7bf3eb478db",
   "metadata": {},
   "source": [
    "### 5. Create a NumPy array of strings ['python', 'numpy', 'pandas']. Apply different case transformations (uppercase, lowercase, title case, etc.) to each element.\n"
   ]
  },
  {
   "cell_type": "code",
   "execution_count": 22,
   "id": "1196c9b8-c93d-4168-a6ae-434a307f0b7f",
   "metadata": {},
   "outputs": [
    {
     "name": "stdout",
     "output_type": "stream",
     "text": [
      "original_array:\n",
      "\n",
      "['majiara' 'sainthia' 'kolkata']\n",
      "uppercase:\n",
      "\n",
      "['MAJIARA' 'SAINTHIA' 'KOLKATA']\n",
      "lowercase:\n",
      "\n",
      "['majiara' 'sainthia' 'kolkata']\n",
      "titlecase\n",
      ":\n",
      "['Majiara' 'Sainthia' 'Kolkata']\n"
     ]
    }
   ],
   "source": [
    "import numpy as np\n",
    "arr=np.array(['majiara', 'sainthia','kolkata'])\n",
    "\n",
    "uppercase=np.char.upper(arr)\n",
    "lowercase=np.char.lower(arr)\n",
    "titlecase=np.char.title(arr)\n",
    "\n",
    "print (\"original_array:\\n\")\n",
    "print (arr)\n",
    "\n",
    "print ('uppercase:\\n')\n",
    "print (uppercase)\n",
    "\n",
    "print (\"lowercase:\\n\")\n",
    "print (lowercase)\n",
    "\n",
    "print (\"titlecase\\n:\")\n",
    "print (titlecase)"
   ]
  },
  {
   "cell_type": "markdown",
   "id": "06e4a7e7-dad4-4df9-b9ca-3c4ffe4de5fc",
   "metadata": {},
   "source": [
    "### 6. Generate a NumPy array of words. Insert a space between each character of every word in the array."
   ]
  },
  {
   "cell_type": "code",
   "execution_count": 23,
   "id": "e2ab9fad-294c-4d13-9fb8-59369759d336",
   "metadata": {},
   "outputs": [
    {
     "data": {
      "text/plain": [
       "array(['kisan', 'vendon', 'officer'], dtype='<U7')"
      ]
     },
     "execution_count": 23,
     "metadata": {},
     "output_type": "execute_result"
    }
   ],
   "source": [
    "import numpy as np\n",
    "arr= np.array([ \"kisan\",\"vendon\",\"officer\"])\n",
    "arr"
   ]
  },
  {
   "cell_type": "code",
   "execution_count": 25,
   "id": "46339f85-fa70-4269-a0b0-28cc968467fc",
   "metadata": {},
   "outputs": [
    {
     "name": "stdout",
     "output_type": "stream",
     "text": [
      "words_with_space\n",
      ":\n",
      "['k i s a n' 'v e n d o n' 'o f f i c e r']\n"
     ]
    }
   ],
   "source": [
    "words_with_space=np.char.join(' ',arr)\n",
    "print (\"words_with_space\\n:\")\n",
    "print (words_with_space)"
   ]
  },
  {
   "cell_type": "markdown",
   "id": "3feaa30a-4328-4eab-a1c4-76d842713791",
   "metadata": {},
   "source": [
    "### 7. Create two 2D NumPy arrays and perform element-wise addition, subtraction, multiplication, and division."
   ]
  },
  {
   "cell_type": "code",
   "execution_count": 37,
   "id": "df91980a-961f-4261-a966-d94093a4baa2",
   "metadata": {},
   "outputs": [
    {
     "name": "stdout",
     "output_type": "stream",
     "text": [
      "Array 1:\n",
      "[[1 2 3]\n",
      " [4 5 6]]\n",
      "\n",
      "Array 2:\n",
      "[[ 7  8  9]\n",
      " [10 11 12]]\n",
      "\n",
      "Element-wise Addition:\n",
      "[[ 8 10 12]\n",
      " [14 16 18]]\n",
      "\n",
      "Element-wise Subtraction:\n",
      "[[-6 -6 -6]\n",
      " [-6 -6 -6]]\n",
      "\n",
      "Element-wise Multiplication:\n",
      "[[ 7 16 27]\n",
      " [40 55 72]]\n",
      "\n",
      "Element-wise Division:\n",
      "[[0.14285714 0.25       0.33333333]\n",
      " [0.4        0.45454545 0.5       ]]\n"
     ]
    }
   ],
   "source": [
    "import numpy as np\n",
    "\n",
    "# Create two 2D NumPy arrays\n",
    "array1 = np.array([[1, 2, 3], [4, 5, 6]])\n",
    "array2 = np.array([[7, 8, 9], [10, 11, 12]])\n",
    "\n",
    "# Element-wise addition\n",
    "addition = array1 + array2\n",
    "\n",
    "# Element-wise subtraction\n",
    "subtraction = array1 - array2\n",
    "\n",
    "# Element-wise multiplication\n",
    "multiplication = array1 * array2\n",
    "\n",
    "# Element-wise division\n",
    "division = array1 / array2\n",
    "\n",
    "# Print the results\n",
    "print(\"Array 1:\")\n",
    "print(array1)\n",
    "print(\"\\nArray 2:\")\n",
    "print(array2)\n",
    "print(\"\\nElement-wise Addition:\")\n",
    "print(addition)\n",
    "print(\"\\nElement-wise Subtraction:\")\n",
    "print(subtraction)\n",
    "print(\"\\nElement-wise Multiplication:\")\n",
    "print(multiplication)\n",
    "print(\"\\nElement-wise Division:\")\n",
    "print(division)\n"
   ]
  },
  {
   "cell_type": "markdown",
   "id": "c3842ede-fa9b-45c0-94b5-9ea24b9c77b0",
   "metadata": {},
   "source": [
    "### 8. Use NumPy to create a 5x5 identity matrix, then extract its diagonal elements."
   ]
  },
  {
   "cell_type": "code",
   "execution_count": 41,
   "id": "678a9112-bf51-4b28-80d3-58ff5a243b41",
   "metadata": {},
   "outputs": [
    {
     "name": "stdout",
     "output_type": "stream",
     "text": [
      "identity_matrix:\n",
      "\n",
      "[[1. 0. 0. 0. 0.]\n",
      " [0. 1. 0. 0. 0.]\n",
      " [0. 0. 1. 0. 0.]\n",
      " [0. 0. 0. 1. 0.]\n",
      " [0. 0. 0. 0. 1.]]\n",
      "diagonal_elements:\n",
      "\n",
      "[1. 1. 1. 1. 1.]\n"
     ]
    }
   ],
   "source": [
    "import numpy as np\n",
    "identity_matrix = np.eye(5)\n",
    "diagonal_elements = np.diag(identity_matrix)\n",
    "\n",
    "print (\"identity_matrix:\\n\")\n",
    "print(identity_matrix)\n",
    "print(\"diagonal_elements:\\n\")\n",
    "print(diagonal_elements)"
   ]
  },
  {
   "cell_type": "markdown",
   "id": "86cc7f0a-e428-4809-9acb-93a8aa7b35e8",
   "metadata": {},
   "source": [
    "### 9. Generate a NumPy array of 100 random integers between 0 and 1000. Find and display all prime numbers in this array.\n"
   ]
  },
  {
   "cell_type": "code",
   "execution_count": 42,
   "id": "72f5efde-0c4b-40da-b119-4154624d64da",
   "metadata": {},
   "outputs": [
    {
     "name": "stdout",
     "output_type": "stream",
     "text": [
      "Random Array:\n",
      "[133 465 978 157 982 178 877 267 139 162 584 857 835 459 657 862 428 929\n",
      " 629 648 966 750 736 283 384 563 505 362 285 835 744 313 106 797 809 689\n",
      " 443 274 895 744 665 921 208 313 528  11 244 431 118  87 868 186 857 404\n",
      " 224 688 311 170 205 334 624 998 897 550 238 321 753 298 422 976 125 796\n",
      " 508 242 342 838 339 938 193 655 478 567 603 703 202 896 560 580 439 324\n",
      " 133 183 140 972 322 864 752 932 813 235]\n",
      "Sorted Prime Numbers:\n",
      "[ 11 139 157 193 283 311 313 313 431 439 443 563 797 809 857 857 877 929]\n"
     ]
    }
   ],
   "source": [
    "import numpy as np\n",
    "\n",
    "# Simplified function to check if a number is prime\n",
    "def is_prime(n):\n",
    "    if n <= 1:\n",
    "        return False\n",
    "    if n <= 3:\n",
    "        return True\n",
    "    if n % 2 == 0 or n % 3 == 0:\n",
    "        return False\n",
    "    # Check for factors from 5 to sqrt(n)\n",
    "    for i in range(5, int(n**0.5) + 1, 6):\n",
    "        if n % i == 0 or n % (i + 2) == 0:\n",
    "            return False\n",
    "    return True\n",
    "\n",
    "# Generate a NumPy array of 100 random integers between 0 and 1000\n",
    "random_array = np.random.randint(0, 1001, size=100)\n",
    "\n",
    "# Find and sort all prime numbers in the array\n",
    "prime_numbers = np.array(sorted([num for num in random_array if is_prime(num)]))\n",
    "\n",
    "print(\"Random Array:\")\n",
    "print(random_array)\n",
    "\n",
    "print(\"Sorted Prime Numbers:\")\n",
    "print(prime_numbers)"
   ]
  },
  {
   "cell_type": "markdown",
   "id": "374aebf3-2335-4fd1-985c-33fd54f67801",
   "metadata": {},
   "source": [
    "### 10. Create a NumPy array representing daily temperatures for a month. Calculate and display the weekly averages."
   ]
  },
  {
   "cell_type": "code",
   "execution_count": null,
   "id": "fd0a11dd-12f8-4e61-9e6d-5727ee968290",
   "metadata": {},
   "outputs": [],
   "source": []
  }
 ],
 "metadata": {
  "kernelspec": {
   "display_name": "Python 3 (ipykernel)",
   "language": "python",
   "name": "python3"
  },
  "language_info": {
   "codemirror_mode": {
    "name": "ipython",
    "version": 3
   },
   "file_extension": ".py",
   "mimetype": "text/x-python",
   "name": "python",
   "nbconvert_exporter": "python",
   "pygments_lexer": "ipython3",
   "version": "3.12.4"
  }
 },
 "nbformat": 4,
 "nbformat_minor": 5
}
